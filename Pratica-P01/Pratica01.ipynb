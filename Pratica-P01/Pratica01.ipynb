{
 "cells": [
  {
   "cell_type": "markdown",
   "metadata": {},
   "source": [
    "# Exercício 2: Manipulação de Variáveis do Tipo Inteiro:\n",
    "\n",
    "## Operadores aritméticos em Python:\n",
    "\n",
    "Python possui operadores aritméticos similares ao C/C++. Esse operadores incluem:\n",
    "\n",
    "- Adição: +\n",
    "- Subtração: -\n",
    "- Multiplicação: *\n",
    "- Divisão: /\n",
    "- Divisão inteira: // (resultado sem a parte decimal)\n",
    "- Módulo: % (resto da divisão)\n",
    "- Exponenciação: **\n",
    "\n",
    "Veja o exemplo abaixo:"
   ]
  },
  {
   "cell_type": "code",
   "execution_count": null,
   "metadata": {
    "dotnet_interactive": {
     "language": "csharp"
    },
    "polyglot_notebook": {
     "kernelName": "csharp"
    },
    "vscode": {
     "languageId": "polyglot-notebook"
    }
   },
   "outputs": [],
   "source": [
    "a = 5\n",
    "b = 2\n",
    "\n",
    "soma = a + b\n",
    "subtracao = a - b\n",
    "multiplicacao = a * b\n",
    "divisão = a / b\n",
    "resto a % b\n",
    "exponenciação: a ** b\n",
    "\n",
    "print(f\"Soma: {soma}\")\n",
    "print(f\"Subtração: {subtracao}\")\n",
    "print(f\"Multiplicação: {multiplicacao}\")\n",
    "print(f\"Divisão: {divisao}\")\n",
    "print(f\"Resto: {resto}\")\n",
    "print(f\"Potência: {potencia}\")"
   ]
  },
  {
   "cell_type": "markdown",
   "metadata": {},
   "source": [
    "## Operadores aritméticos compostos em Python:\n",
    "\n",
    "Python oferece operadores compostos que combinam operação com atribuição:\n",
    "\n",
    "- +=, -= para adição/subtração\n",
    "- *=, /= para multiplicação/divisão\n",
    "- //=, %= para divisão inteira/módulo\n",
    "- **= para exponenciação"
   ]
  },
  {
   "cell_type": "code",
   "execution_count": null,
   "metadata": {
    "dotnet_interactive": {
     "language": "csharp"
    },
    "polyglot_notebook": {
     "kernelName": "csharp"
    },
    "vscode": {
     "languageId": "polyglot-notebook"
    }
   },
   "outputs": [],
   "source": [
    "c = 10\n",
    "c += 3\n",
    "print(f\"Valor de c após c += 3: {c}\")"
   ]
  },
  {
   "cell_type": "markdown",
   "metadata": {},
   "source": [
    "Uma diferença notável, em relação aos operadores em C/C++, diz respeito ao operador de Divisão que sempre retorna um valor de ponto flutuante, mesmo quando existe uma divisão que não gera resto. O mesmo é válido para o operador composto de Divisão e Atribuição\n",
    "\n",
    "Além disso, os operadores de divisão inteira // e potenciação ** são novidades do Python e não existem nas linguagens C/C++.\n",
    "\n",
    "## Representação de números inteiros significativamente grandes:\n",
    "\n",
    "Python tem o tipo de dado int que permite representar inteiros de tamanho arbitrário, sem limite prático para o tamanho."
   ]
  },
  {
   "cell_type": "code",
   "execution_count": null,
   "metadata": {
    "dotnet_interactive": {
     "language": "csharp"
    },
    "polyglot_notebook": {
     "kernelName": "csharp"
    },
    "vscode": {
     "languageId": "polyglot-notebook"
    }
   },
   "outputs": [],
   "source": [
    "# Cálculo do fatorial de 30\n",
    "import math\n",
    "\n",
    "fatorial_30 = math.factorial(30)\n",
    "print(f\"Fatorial de 30: {fatorial_30}\")\n",
    "\n",
    "# Maior valor inteiro representável em C/C++\n",
    "maior_valor_inteiro_c = 2 ** 31 - 1\n",
    "print(f\"Maior valor inteiro representável em C/C++: {maior_valor_inteiro_c}\")"
   ]
  },
  {
   "cell_type": "markdown",
   "metadata": {},
   "source": [
    "O valor do fatorial de 30 resulta em 265.252.859.812.191.058.636.308.480.000.000 em Python. Em C/C++ o maior valor inteiro que pode ser representado, até mesmo usando unsigned long long int, é de 18.446.744.073.709.551.615. Esse valor é bem menor do que o resultado obtido usando o código em Python, demonstrando mais uma das diferenças notáveis entre as linguagens.\n",
    "\n",
    "## As variáveis numéricas são imutáveis em Python:\n",
    "\n",
    "Como as variáveis númericas são imutáveis não é possível mudar os valores armazenados na variável, podemos apenas mudar para qual espaço da memória está sendo referenciado."
   ]
  },
  {
   "cell_type": "code",
   "execution_count": null,
   "metadata": {
    "dotnet_interactive": {
     "language": "csharp"
    },
    "polyglot_notebook": {
     "kernelName": "csharp"
    },
    "vscode": {
     "languageId": "polyglot-notebook"
    }
   },
   "outputs": [],
   "source": [
    "# Exemplo de imutabilidade\n",
    "x = 10\n",
    "y = x\n",
    "# Atribuímos o valor de 'x' a 'y', criando uma cópia da referência, não da variável.\n",
    "# Ambas as variáveis apontam para o mesmo valor na memória.\n",
    "x += 5\n",
    "# Exibimos os valores de 'x' e 'y' para mostrar que 'x' foi modificado, mas 'y' permaneceu inalterado.\n",
    "print(f\"x: {x}, y: {y}\")"
   ]
  },
  {
   "cell_type": "markdown",
   "metadata": {},
   "source": [
    "O exemplo acima ilusta o conceito de imutabilidade de variáveis numéricas no Python. Ao realizar a operação x += 5, estamos modificando o valor associado à variável x. No entanto, como y foi atribuído a x antes dessa modificação, y permanece inalterado. Isso destaca o fato de que, ao lidar com variáveis numéricas, as operações que modificam seus valores criam novas referências para os novos valores, mantendo as variáveis originais inalteradas.\n",
    "\n",
    "## Métodos disponíveis para variáveis inteiras:\n",
    "\n",
    "Os inteiros em Python têm métodos embutidos. Um exemplo disso é o bit_length(), que retorna o número de bits necessários para representar o número. Outro exemplo é o to_bytes(length, byteorder), que converte o inteiro em uma sequência de bytes. Ainda temos o from_bytes(bytes, byteorder), que converte uma sequência de bytes em um inteiro, entre outros métodos."
   ]
  },
  {
   "cell_type": "code",
   "execution_count": null,
   "metadata": {
    "dotnet_interactive": {
     "language": "csharp"
    },
    "polyglot_notebook": {
     "kernelName": "csharp"
    },
    "vscode": {
     "languageId": "polyglot-notebook"
    }
   },
   "outputs": [],
   "source": [
    "# Métodos disponíveis para variáveis inteiras\n",
    "variavel_inteira = 42\n",
    "\n",
    "# Utilizamos a função 'dir()' para obter a lista de todos os métodos e atributos disponíveis para o objeto 'variavel_inteira' e, assim, explorar as funcionalidades associadas a variáveis inteiras.\n",
    "\n",
    "print(f\"Métodos disponíveis para variáveis inteiras: {dir(variavel_inteira)}\")"
   ]
  },
  {
   "cell_type": "markdown",
   "metadata": {},
   "source": [
    "# Exercício 3: Manipulação de variáveis de tipo string e explorando o uso de print\n",
    "\n",
    "## Imprimindo cada caracter numérico com seu respectivo código numérico:"
   ]
  },
  {
   "cell_type": "code",
   "execution_count": null,
   "metadata": {
    "dotnet_interactive": {
     "language": "csharp"
    },
    "polyglot_notebook": {
     "kernelName": "csharp"
    },
    "vscode": {
     "languageId": "polyglot-notebook"
    }
   },
   "outputs": [],
   "source": [
    "# Imprimir cada caractere numérico e seu código numérico\n",
    "print(\"Imprimir cada caractere numérico e seu código numérico:\")\n",
    "for i in range(10):\n",
    "    print(f\"'{str(i)}' - {ord(str(i))}\")"
   ]
  },
  {
   "cell_type": "markdown",
   "metadata": {},
   "source": [
    "Nesta seção, utilizamos um loop for para iterar de 0 a 9 (inclusive). Dentro do loop, usamos a função ord() para obter o código numérico correspondente a cada caractere numérico. O resultado é então impresso na tela.\n",
    "\n",
    "## Modificando a saída para imprimir também o código em octal e hexadecimal:\n"
   ]
  },
  {
   "cell_type": "code",
   "execution_count": null,
   "metadata": {
    "dotnet_interactive": {
     "language": "csharp"
    },
    "polyglot_notebook": {
     "kernelName": "csharp"
    },
    "vscode": {
     "languageId": "polyglot-notebook"
    }
   },
   "outputs": [],
   "source": [
    "\n",
    "print(\"\\nModificar a saída para imprimir também o código em octal e hexadecimal:\")\n",
    "for i in range(10):\n",
    "    print(f\"'{str(i)}' - Decimal: {ord(str(i))}, Octal: {oct(ord(str(i)))}, Hexadecimal: {hex(ord(str(i)))}\")"
   ]
  },
  {
   "cell_type": "markdown",
   "metadata": {},
   "source": [
    "Nesta seção, estendemos o código anterior para incluir a representação em octal e hexadecimal do código numérico. Utilizamos as funções oct() e hex() para obter as representações em octal e hexadecimal, respectivamente.\n",
    "\n",
    "## Lendo um caractere da entrada padrão e imprimindo no formato desejado:"
   ]
  },
  {
   "cell_type": "code",
   "execution_count": null,
   "metadata": {
    "dotnet_interactive": {
     "language": "csharp"
    },
    "polyglot_notebook": {
     "kernelName": "csharp"
    },
    "vscode": {
     "languageId": "polyglot-notebook"
    }
   },
   "outputs": [],
   "source": [
    "# Ler um caractere da entrada padrão e imprimir no formato desejado\n",
    "caractere = input(\"\\nDigite um caractere: \")\n",
    "print(f\"'{caractere}' - Decimal: {ord(caractere)}, Octal: {oct(ord(caractere))}, Hexadecimal: {hex(ord(caractere))}\")"
   ]
  },
  {
   "cell_type": "markdown",
   "metadata": {},
   "source": [
    "Nesta seção, solicitamos ao usuário que digite um caractere. Em seguida, usamos a função input() para ler o caractere fornecido pelo usuário e imprimimos as informações desejadas (decimal, octal e hexadecimal).\n",
    "\n",
    "## Trabalhar com caracteres especiais 'ç' e 'ã':"
   ]
  },
  {
   "cell_type": "code",
   "execution_count": null,
   "metadata": {
    "dotnet_interactive": {
     "language": "csharp"
    },
    "polyglot_notebook": {
     "kernelName": "csharp"
    },
    "vscode": {
     "languageId": "polyglot-notebook"
    }
   },
   "outputs": [],
   "source": [
    "# Trabalhar com caracteres especiais 'ç' e 'ã'\n",
    "caractere_especial_1 = 'ç'\n",
    "caractere_especial_2 = 'ã'\n",
    "\n",
    "print(f\"\\nExemplo de caracteres especiais:\")\n",
    "print(f\"'{caractere_especial_1}' - Decimal: {ord(caractere_especial_1)}, Octal: {oct(ord(caractere_especial_1))}, Hexadecimal: {hex(ord(caractere_especial_1))}\")\n",
    "print(f\"'{caractere_especial_2}' - Decimal: {ord(caractere_especial_2)}, Octal: {oct(ord(caractere_especial_2))}, Hexadecimal: {hex(ord(caractere_especial_2))}\")"
   ]
  },
  {
   "cell_type": "markdown",
   "metadata": {},
   "source": [
    "Nesta seção, demonstramos como trabalhar com caracteres especiais, como 'ç' e 'ã'. A função ord() é usada para obter o código numérico desses caracteres, e as representações em octal e hexadecimal são impressas na tela.\n",
    "\n",
    "# Exercício 4: Manipulação de variáveis de tipo string e explorando os métodos da classe\n",
    "\n"
   ]
  },
  {
   "cell_type": "code",
   "execution_count": null,
   "metadata": {
    "dotnet_interactive": {
     "language": "csharp"
    },
    "polyglot_notebook": {
     "kernelName": "csharp"
    },
    "vscode": {
     "languageId": "polyglot-notebook"
    }
   },
   "outputs": [],
   "source": [
    "# Declare uma variável nome atribuindo a ela seu nome completo\n",
    "nome_completo = \"Rafaela Brito\"\n",
    "\n",
    "# Pesquise por funcionalidades já implementadas nas strings e separe em duas variáveis novas seu nome do seu sobrenome\n",
    "# Utilizamos o método split() para dividir a string em palavras\n",
    "nome_sobrenome = nome_completo.split()\n",
    "\n",
    "# Verifique qual das duas novas variáveis antecede a outra na ordem alfabética\n",
    "# Utilizamos a função min() para encontrar o valor mínimo em ordem alfabética\n",
    "primeiro_nome = min(nome_sobrenome[0], nome_sobrenome[1])\n",
    "segundo_nome = max(nome_sobrenome[0], nome_sobrenome[1])\n",
    "\n",
    "# Verifique a quantidade de caracteres de cada uma das novas variáveis\n",
    "quantidade_caracteres_primeiro_nome = len(primeiro_nome)\n",
    "quantidade_caracteres_segundo_nome = len(segundo_nome)\n",
    "\n",
    "# Verifique se seu nome é uma palíndromo\n",
    "# Utilizamos a indexação reversa para inverter a string e comparar com a original\n",
    "e_palindromo = nome_completo.lower() == nome_completo[::-1].lower()\n",
    "\n",
    "# Imprimir os resultados\n",
    "print(f\"Nome Completo: {nome_completo}\")\n",
    "print(f\"Nome e Sobrenome Separados: {nome_sobrenome}\")\n",
    "print(f\"Primeiro Nome: {primeiro_nome}\")\n",
    "print(f\"Segundo Nome: {segundo_nome}\")\n",
    "print(f\"Ordem Alfabética: {primeiro_nome}, {segundo_nome}\")\n",
    "print(f\"Quantidade de Caracteres - Primeiro Nome: {quantidade_caracteres_primeiro_nome}\")\n",
    "print(f\"Quantidade de Caracteres - Segundo Nome: {quantidade_caracteres_segundo_nome}\")\n",
    "print(f\"Seu nome é um palíndromo: {e_palindromo}\")\n"
   ]
  },
  {
   "cell_type": "markdown",
   "metadata": {},
   "source": [
    "Este exemplo:\n",
    "\n",
    "- Declara uma variável nome_completo com o nome completo.\n",
    "- Usa o método split() para dividir o nome completo em palavras, criando a variável nome_sobrenome.\n",
    "- Encontra qual dos dois nomes antecede o outro na ordem alfabética usando as funções min() e max().\n",
    "- Verifica a quantidade de caracteres em cada nome usando a função len().\n",
    "- Verifica se o nome completo é um palíndromo usando a comparação de strings invertidas.\n",
    "\n",
    "# Exercício 5: Manipulação de variáveis de ponto flutuante, explorando as características e os limites\n",
    "\n",
    "Vamos abordar cada parte do exercício separadamente, criando um exemplo para cada item:\n",
    "\n",
    "## Demonstração do funcionamento dos operadores aritméticos e aritméticos compostos em Python:\n"
   ]
  },
  {
   "cell_type": "code",
   "execution_count": null,
   "metadata": {
    "dotnet_interactive": {
     "language": "csharp"
    },
    "polyglot_notebook": {
     "kernelName": "csharp"
    },
    "vscode": {
     "languageId": "polyglot-notebook"
    }
   },
   "outputs": [],
   "source": [
    "numero1 = 3.5\n",
    "numero2 = 2.0\n",
    "\n",
    "soma = numero1 + numero2\n",
    "subtracao = numero1 - numero2\n",
    "multiplicacao = numero1 * numero2\n",
    "divisao = numero1 / numero2\n",
    "\n",
    "numero1 += 1.5\n",
    "numero2 *= 2.0\n",
    "\n",
    "print(f\"Soma: {soma}\")\n",
    "print(f\"Subtração: {subtracao}\")\n",
    "print(f\"Multiplicação: {multiplicacao}\")\n",
    "print(f\"Divisão: {divisao}\")\n",
    "print(f\"Atualização de numero1: {numero1}\")\n",
    "print(f\"Atualização de numero2: {numero2}\")\n"
   ]
  },
  {
   "cell_type": "markdown",
   "metadata": {},
   "source": [
    "Esta seção demonstra o funcionamento dos operadores aritméticos (+, -, *, /) e operadores aritméticos compostos (+=, *=) com números de ponto flutuante. São realizadas operações básicas e compostas para mostrar como esses operadores afetam as variáveis.\n",
    "\n",
    "## Maior e menor potência de 2 representável:"
   ]
  },
  {
   "cell_type": "code",
   "execution_count": null,
   "metadata": {
    "dotnet_interactive": {
     "language": "csharp"
    },
    "polyglot_notebook": {
     "kernelName": "csharp"
    },
    "vscode": {
     "languageId": "polyglot-notebook"
    }
   },
   "outputs": [],
   "source": [
    "maior_potencia = 2.0 ** 1023\n",
    "print(f\"Maior potência de 2 representável: {maior_potencia}\")\n",
    "\n",
    "menor_potencia = 2.0 ** -1022\n",
    "print(f\"Menor potência de 2 representável: {menor_potencia}\")\n"
   ]
  },
  {
   "cell_type": "markdown",
   "metadata": {},
   "source": [
    "Nesta seção, utilizamos o operador de exponenciação (**) para calcular a maior e a menor potência de 2 que podem ser representadas com variáveis de ponto flutuante em Python.\n",
    "\n",
    "## Demonstração da imutabilidade de variáveis de ponto flutuante:\n"
   ]
  },
  {
   "cell_type": "code",
   "execution_count": null,
   "metadata": {
    "dotnet_interactive": {
     "language": "csharp"
    },
    "polyglot_notebook": {
     "kernelName": "csharp"
    },
    "vscode": {
     "languageId": "polyglot-notebook"
    }
   },
   "outputs": [],
   "source": [
    "num = 5.0\n",
    "num_copia = num\n",
    "\n",
    "num += 2.0\n",
    "\n",
    "print(f\"num: {num}\")\n",
    "print(f\"num_copia: {num_copia}\")\n"
   ]
  },
  {
   "cell_type": "markdown",
   "metadata": {},
   "source": [
    "Esta seção ilustra a imutabilidade de variáveis de ponto flutuante. Mesmo que uma cópia seja feita, alterar a variável original não afeta a cópia, demonstrando que as variáveis numéricas são imutáveis.\n",
    "\n",
    "## Métodos disponíveis para variáveis de ponto flutuante:\n"
   ]
  },
  {
   "cell_type": "code",
   "execution_count": null,
   "metadata": {
    "dotnet_interactive": {
     "language": "csharp"
    },
    "polyglot_notebook": {
     "kernelName": "csharp"
    },
    "vscode": {
     "languageId": "polyglot-notebook"
    }
   },
   "outputs": [],
   "source": [
    "numero = 3.14\n",
    "print(f\"Métodos disponíveis para variáveis de ponto flutuante: {dir(numero)}\")"
   ]
  },
  {
   "cell_type": "markdown",
   "metadata": {},
   "source": [
    "Aqui, utilizamos a função dir() para obter uma lista de métodos e atributos disponíveis para variáveis de ponto flutuante em Python. Isso inclui operações e funções que podem ser aplicadas a essas variáveis.Alguns exemplos de métodos incluem:\n",
    "\n",
    "as_integer_ratio(): retorna a representação do número como uma fração.\n",
    "is_integer(): verifica se o número é um inteiro.\n",
    "hex(): retorna a representação hexadecimal do número.\n",
    "\n",
    "# Exercício 6: Manipulando listas:\n",
    "\n",
    "- Verificando o que acontece no código:"
   ]
  },
  {
   "cell_type": "code",
   "execution_count": null,
   "metadata": {
    "dotnet_interactive": {
     "language": "csharp"
    },
    "polyglot_notebook": {
     "kernelName": "csharp"
    },
    "vscode": {
     "languageId": "polyglot-notebook"
    }
   },
   "outputs": [],
   "source": [
    "print('Manipulação de listas:')\n",
    "lista = [1, 2, 3, 4, 5, 6, 7, 8, 9]\n",
    "print(lista[::-1])  # Lista invertida\n",
    "print(lista[-1:])  # Apenas o último elemento\n",
    "print(lista[:-1:])  # Exclui o último elemento\n",
    "print(lista[::-2])  # Lista invertida pulando de 2 em 2\n",
    "print(lista[-2:])  # Últimos dois elementos\n",
    "print(lista[:-2:])  # Exclui os dois últimos elementos\n",
    "print(' ')"
   ]
  },
  {
   "cell_type": "markdown",
   "metadata": {},
   "source": [
    "Será impresso:\n",
    "\n",
    "[9, 8, 7, 6, 5, 4, 3, 2, 1]\n",
    "[9]\n",
    "[1, 2, 3, 4, 5, 6, 7, 8]\n",
    "[9, 7, 5, 3, 1]\n",
    "[8, 9]\n",
    "[1, 2, 3, 4, 5, 6, 7]\n",
    "\n",
    "- Zodíaco chinês:"
   ]
  },
  {
   "cell_type": "code",
   "execution_count": null,
   "metadata": {
    "dotnet_interactive": {
     "language": "csharp"
    },
    "polyglot_notebook": {
     "kernelName": "csharp"
    },
    "vscode": {
     "languageId": "polyglot-notebook"
    }
   },
   "outputs": [],
   "source": [
    "print('Animal do Calendário Chinês:')\n",
    "def animal_calendario_chines(ano_nascimento):\n",
    "    animais = [\"Macaco\", \"Galo\", \"Cão\", \"Porco\", \"Rato\", \"Boi\", \"Tigre\", \"Coelho\", \"Dragão\", \"Serpente\", \"Cavalo\", \"Carneiro\"]\n",
    "    ano_no_calendario_chines = ano_nascimento % 12\n",
    "    return animais[ano_no_calendario_chines]\n",
    "\n",
    "ano_nascimento = int(input(\"Digite o ano de nascimento: \"))\n",
    "signo_chines = animal_calendario_chines(ano_nascimento)\n",
    "print(f\"O signo chinês associado ao ano é: {signo_chines}\")"
   ]
  },
  {
   "cell_type": "markdown",
   "metadata": {},
   "source": [
    "Esta é a definição de uma função chamada animal_calendario_chines. A função recebe um parâmetro ano_nascimento e retorna o animal associado ao ano de nascimento no Calendário Chinês. A lista animais contém os animais associados a cada ano no ciclo de 12 anos. O código, então, solicita ao usuário que insira o ano de nascimento e converte a entrada para um número inteiro usando int(). Depois,  a função animal_calendario_chines é chamada com o ano de nascimento fornecido pelo usuário, e o resultado é armazenado na variável signo_chines e a mensagem contendo o signo chinês associado ao ano de nascimento é impressa na tela."
   ]
  }
 ],
 "metadata": {
  "language_info": {
   "name": "python"
  }
 },
 "nbformat": 4,
 "nbformat_minor": 2
}
